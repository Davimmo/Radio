{
 "cells": [
  {
   "cell_type": "code",
   "execution_count": null,
   "metadata": {},
   "outputs": [],
   "source": [
    "#dimensões em metros\n",
    "altura=9.0e-2\n",
    "profundidade=19.0e-2\n",
    "largura=21.0e-2\n",
    "quantidade_de_rádios=15_000.0\n",
    "gravidade=9.8\n",
    "\n",
    "#pressão suportada por um ser humano\n",
    "atm=101325\n",
    "pressão_limite=atm*31\n",
    "\n",
    "#massa em kg\n",
    "massa_dos_rádios=490e-3\n",
    "\n",
    "#área em metros quadrados\n",
    "área_pele=1\n",
    "\n",
    "#área do rádio em contato com a pele\n",
    "área_radio=largura*profundidade\n",
    "\n",
    "rádios_por_camada=área_pele/área_radio\n",
    "\n",
    "quantidade_de_camadas=quantidade_de_rádios/rádios_por_camada\n",
    "\n",
    "#pressão em pascal\n",
    "pressão=(quantidade_de_camadas*massa_dos_rádios*gravidade)/área_radio\n",
    "pressão=pressão+atm\n",
    "\n",
    "print(f'Rádios por camada: {rádios_por_camada: .2f}')\n",
    "print(f'Pressão máxima teorica suportada: {pressão_limite: ,} Pascal')\n",
    "print(f'Pressão de uma pilha com {quantidade_de_camadas:.2f} camadas de rádios: {pressão: ,.2f} Pascal ou {pressão/atm: .2f} atm')\n",
    "\n",
    "\n",
    "\n",
    "\n"
   ]
  }
 ],
 "metadata": {
  "kernelspec": {
   "display_name": "Python 3",
   "language": "python",
   "name": "python3"
  },
  "language_info": {
   "codemirror_mode": {
    "name": "ipython",
    "version": 3
   },
   "file_extension": ".py",
   "mimetype": "text/x-python",
   "name": "python",
   "nbconvert_exporter": "python",
   "pygments_lexer": "ipython3",
   "version": "3.12.2"
  }
 },
 "nbformat": 4,
 "nbformat_minor": 2
}
