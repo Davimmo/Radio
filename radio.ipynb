{
 "cells": [
  {
   "cell_type": "code",
   "execution_count": 7,
   "metadata": {},
   "outputs": [
    {
     "name": "stdout",
     "output_type": "stream",
     "text": [
      "Pressão máxima teorica suportada: 3141075 Pascal\n",
      "Pressão de uma pilha com  5.98 camadas de rádios: 173355.0 Pascal\n"
     ]
    }
   ],
   "source": [
    "#dimensões em metros\n",
    "altura=9.0e-3\n",
    "profundidade=19.0e-3\n",
    "largura=21.0e-3\n",
    "quantidade_de_rádios=15_000.0\n",
    "gravidade=9.8\n",
    "\n",
    "#pressão suportada por um ser humano\n",
    "atm=101325\n",
    "pressão_limite=atm*31\n",
    "\n",
    "#massa em kg\n",
    "massa_dos_rádios=490e-3\n",
    "\n",
    "#área em metros quadrados\n",
    "área_pele=1\n",
    "\n",
    "#área do rádio em contato com a pele\n",
    "área_radio=largura*profundidade\n",
    "\n",
    "rádios_por_camada=área_pele/área_radio\n",
    "\n",
    "quantidade_de_camadas=quantidade_de_rádios/rádios_por_camada\n",
    "\n",
    "#pressão em pascal\n",
    "pressão=(quantidade_de_camadas*massa_dos_rádios*gravidade)/área_radio\n",
    "pressão=pressão+atm\n",
    "\n",
    "print(f'Pressão máxima teorica suportada: {pressão_limite} Pascal')\n",
    "print(f'Pressão de uma pilha com {quantidade_de_camadas: .2f} camadas de rádios: {pressão} Pascal')\n",
    "\n",
    "\n",
    "\n",
    "\n"
   ]
  }
 ],
 "metadata": {
  "kernelspec": {
   "display_name": "Python 3",
   "language": "python",
   "name": "python3"
  },
  "language_info": {
   "codemirror_mode": {
    "name": "ipython",
    "version": 3
   },
   "file_extension": ".py",
   "mimetype": "text/x-python",
   "name": "python",
   "nbconvert_exporter": "python",
   "pygments_lexer": "ipython3",
   "version": "3.12.2"
  }
 },
 "nbformat": 4,
 "nbformat_minor": 2
}
